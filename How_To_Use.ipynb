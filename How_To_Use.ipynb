{
 "cells": [
  {
   "cell_type": "code",
   "execution_count": 10,
   "id": "3a4b2f60",
   "metadata": {},
   "outputs": [],
   "source": [
    "from hubspot_prod_to_sandbox import HubspotSandboxMigrator\n",
    "\n",
    "hubspot_sandbox_api_key = 'your_sandbox_api_key'\n",
    "hubspot_prod_api_key = 'your_prod_api_key'"
   ]
  },
  {
   "cell_type": "markdown",
   "id": "6c323d85",
   "metadata": {},
   "source": [
    "### Start with an Anchor Object and Migrate All Associated Objects"
   ]
  },
  {
   "cell_type": "code",
   "execution_count": 2,
   "id": "d94c4f12",
   "metadata": {},
   "outputs": [],
   "source": [
    "migrator = HubspotSandboxMigrator(hubspot_prod_api_key,hubspot_sandbox_api_key)"
   ]
  },
  {
   "cell_type": "code",
   "execution_count": 3,
   "id": "6faac581",
   "metadata": {},
   "outputs": [
    {
     "name": "stdout",
     "output_type": "stream",
     "text": [
      "running migrate_object.. No properties provided. Attempting to utilize default properties for contacts\n",
      "Confirming that Sandbox API Key is for a Hubspot Sandbox Instance\n",
      "Confirming that Prod API Key is for a Hubspot Production Instance\n",
      "Getting Object Properties\n",
      "Confirming that Properties Provided Match Object Properties\n",
      "Getting contacts from Production\n",
      "Creating contacts in Sandbox\n",
      "Getting Prod Associations\n",
      "3 records uploaded to prod_associations_21247685 table\n",
      "Getting companies from Production\n",
      "Creating companies in Sandbox\n",
      "Getting Prod Associations\n",
      "13 records uploaded to prod_associations_21247685 table\n",
      "Getting deals from Production\n",
      "Creating deals in Sandbox\n",
      "Getting Prod Associations\n",
      "5 records uploaded to prod_associations_21247685 table\n",
      "7 records uploaded to object_mappings_21247685 table\n",
      "Getting line_items from Production\n",
      "Creating line_items in Sandbox\n",
      "Getting Prod Associations\n",
      "1 records uploaded to prod_associations_21247685 table\n",
      "Inserting associations of type contact_to_company\n",
      "2 records uploaded to sandbox associations table\n",
      "Inserting associations of type contact_to_deal\n",
      "1 records uploaded to sandbox associations table\n",
      "Inserting associations of type company_to_deal\n",
      "3 records uploaded to sandbox associations table\n",
      "Inserting associations of type company_to_contact\n",
      "2 records uploaded to sandbox associations table\n",
      "Inserting associations of type deal_to_company\n",
      "3 records uploaded to sandbox associations table\n",
      "Inserting associations of type deal_to_line_item\n",
      "1 records uploaded to sandbox associations table\n",
      "Inserting associations of type deal_to_contact\n",
      "1 records uploaded to sandbox associations table\n",
      "Inserting associations of type line_item_to_deal\n",
      "1 records uploaded to sandbox associations table\n",
      "Successfully migrated 2 contacts and their associated objects\n",
      "elapsed time: 14.412 sec\n"
     ]
    }
   ],
   "source": [
    "migrator.migrate_object(hs_object='contacts',\n",
    "                        limit=2,\n",
    "                        include_associations=True,\n",
    "                        fake_data=True)"
   ]
  },
  {
   "cell_type": "code",
   "execution_count": 4,
   "id": "6cbcaeb7",
   "metadata": {},
   "outputs": [
    {
     "name": "stdout",
     "output_type": "stream",
     "text": [
      "Deleting associations of type contact_to_company\n",
      "2 Associations deleted\n",
      "Deleting associations of type contact_to_deal\n",
      "1 Associations deleted\n",
      "Deleting associations of type company_to_deal\n",
      "3 Associations deleted\n",
      "Deleting associations of type company_to_contact\n",
      "2 Associations deleted\n",
      "Deleting associations of type deal_to_company\n",
      "3 Associations deleted\n",
      "Deleting associations of type deal_to_line_item\n",
      "1 Associations deleted\n",
      "Deleting associations of type deal_to_contact\n",
      "1 Associations deleted\n",
      "Deleting associations of type line_item_to_deal\n",
      "1 Associations deleted\n",
      "8 records deleted from Sandbox\n"
     ]
    }
   ],
   "source": [
    "migrator.clean_up()"
   ]
  }
 ],
 "metadata": {
  "kernelspec": {
   "display_name": "migrator_test",
   "language": "python",
   "name": "migrator_test"
  },
  "language_info": {
   "codemirror_mode": {
    "name": "ipython",
    "version": 3
   },
   "file_extension": ".py",
   "mimetype": "text/x-python",
   "name": "python",
   "nbconvert_exporter": "python",
   "pygments_lexer": "ipython3",
   "version": "3.9.7"
  }
 },
 "nbformat": 4,
 "nbformat_minor": 5
}
